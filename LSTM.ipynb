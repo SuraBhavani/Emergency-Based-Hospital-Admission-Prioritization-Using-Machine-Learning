{
 "cells": [
  {
   "cell_type": "code",
   "execution_count": 2,
   "metadata": {},
   "outputs": [],
   "source": [
    "import pandas as pd\n",
    "from matplotlib import pyplot as plt\n",
    "import seaborn as sns\n",
    "from sklearn.linear_model import LogisticRegression\n",
    "from sklearn.naive_bayes import GaussianNB\n",
    "from sklearn.tree import DecisionTreeClassifier\n",
    "from sklearn.ensemble import RandomForestClassifier\n",
    "from sklearn.neural_network import MLPClassifier\n",
    "from sklearn.svm import SVC\n",
    "from sklearn.model_selection import train_test_split\n",
    "from sklearn.metrics import accuracy_score, classification_report\n",
    "from sklearn.preprocessing import LabelEncoder"
   ]
  },
  {
   "cell_type": "code",
   "execution_count": 3,
   "metadata": {},
   "outputs": [],
   "source": [
    "data = pd.read_csv(r'EDAdmissionDataset.csv')"
   ]
  },
  {
   "cell_type": "code",
   "execution_count": 4,
   "metadata": {},
   "outputs": [
    {
     "data": {
      "text/plain": [
       "44160"
      ]
     },
     "execution_count": 4,
     "metadata": {},
     "output_type": "execute_result"
    }
   ],
   "source": [
    "data.isnull().sum().sum()"
   ]
  },
  {
   "cell_type": "code",
   "execution_count": 5,
   "metadata": {},
   "outputs": [],
   "source": [
    "# apply the type costing\n",
    "data['arrival_mode'] = data['arrival_mode'].astype('str')\n",
    "data['complaint'] = data['complaint'].astype('str')   \n",
    "data['diagnosis'] = data['diagnosis'].astype('str')\n",
    "data['result'] = data['result'].astype('str')\n",
    "data['error_code'] = data['error_code'].astype('str')"
   ]
  },
  {
   "cell_type": "code",
   "execution_count": 6,
   "metadata": {},
   "outputs": [],
   "source": [
    "le = LabelEncoder()"
   ]
  },
  {
   "cell_type": "code",
   "execution_count": 7,
   "metadata": {},
   "outputs": [],
   "source": [
    "data['saturation'] = data['saturation'].fillna(data['saturation'].mean())"
   ]
  },
  {
   "cell_type": "code",
   "execution_count": 8,
   "metadata": {},
   "outputs": [
    {
     "data": {
      "text/plain": [
       "0"
      ]
     },
     "execution_count": 8,
     "metadata": {},
     "output_type": "execute_result"
    }
   ],
   "source": [
    "data.isnull().sum().sum()"
   ]
  },
  {
   "cell_type": "code",
   "execution_count": 20,
   "metadata": {},
   "outputs": [],
   "source": [
    "# Initialize LabelEncoder\n",
    "le = LabelEncoder()\n",
    "\n",
    "# Apply LabelEncoder to categorical columns\n",
    "data['arrival_mode'] = le.fit_transform(data['arrival_mode'])\n",
    "data['complaint'] = le.fit_transform(data['complaint'])\n",
    "data['diagnosis'] = le.fit_transform(data['diagnosis'])\n",
    "data['result'] = le.fit_transform(data['result'])\n",
    "data['error_code'] = le.fit_transform(data['error_code'])"
   ]
  },
  {
   "cell_type": "code",
   "execution_count": 21,
   "metadata": {},
   "outputs": [],
   "source": [
    "x = data.drop(\"admissions\", axis=1)\n",
    "y = data[\"admissions\"]"
   ]
  },
  {
   "cell_type": "code",
   "execution_count": 22,
   "metadata": {},
   "outputs": [
    {
     "data": {
      "text/plain": [
       "(81088, 24)"
      ]
     },
     "execution_count": 22,
     "metadata": {},
     "output_type": "execute_result"
    }
   ],
   "source": [
    "x.shape"
   ]
  },
  {
   "cell_type": "code",
   "execution_count": 23,
   "metadata": {},
   "outputs": [
    {
     "data": {
      "text/plain": [
       "(81088,)"
      ]
     },
     "execution_count": 23,
     "metadata": {},
     "output_type": "execute_result"
    }
   ],
   "source": [
    "y.shape"
   ]
  },
  {
   "cell_type": "code",
   "execution_count": 24,
   "metadata": {},
   "outputs": [],
   "source": [
    "x_train,x_test,y_train,y_test = train_test_split(x,y,test_size=0.3,random_state=72)"
   ]
  },
  {
   "cell_type": "code",
   "execution_count": 26,
   "metadata": {},
   "outputs": [],
   "source": [
    "from sklearn.preprocessing import StandardScaler\n",
    "# Scale the features (important for LSTM)\n",
    "scaler = StandardScaler()\n",
    "x_train = scaler.fit_transform(x_train)\n",
    "x_test = scaler.transform(x_test)\n"
   ]
  },
  {
   "cell_type": "code",
   "execution_count": 27,
   "metadata": {},
   "outputs": [
    {
     "name": "stdout",
     "output_type": "stream",
     "text": [
      "x_train shape: (56761, 1, 24)\n",
      "x_test shape: (24327, 1, 24)\n"
     ]
    }
   ],
   "source": [
    "# Reshape data for LSTM (samples, timesteps, features)\n",
    "x_train = np.reshape(x_train, (x_train.shape[0], 1, x_train.shape[1]))\n",
    "x_test = np.reshape(x_test, (x_test.shape[0], 1, x_test.shape[1]))\n",
    "\n",
    "# Check the shape of the data\n",
    "print(f\"x_train shape: {x_train.shape}\")\n",
    "print(f\"x_test shape: {x_test.shape}\")\n"
   ]
  },
  {
   "cell_type": "markdown",
   "metadata": {},
   "source": [
    "# **LSTM**"
   ]
  },
  {
   "cell_type": "code",
   "execution_count": 28,
   "metadata": {},
   "outputs": [
    {
     "name": "stdout",
     "output_type": "stream",
     "text": [
      "Model: \"sequential_1\"\n",
      "_________________________________________________________________\n",
      " Layer (type)                Output Shape              Param #   \n",
      "=================================================================\n",
      " lstm_4 (LSTM)               (None, 1, 50)             15000     \n",
      "                                                                 \n",
      " dropout_4 (Dropout)         (None, 1, 50)             0         \n",
      "                                                                 \n",
      " lstm_5 (LSTM)               (None, 1, 50)             20200     \n",
      "                                                                 \n",
      " dropout_5 (Dropout)         (None, 1, 50)             0         \n",
      "                                                                 \n",
      " lstm_6 (LSTM)               (None, 50)                20200     \n",
      "                                                                 \n",
      " dropout_6 (Dropout)         (None, 50)                0         \n",
      "                                                                 \n",
      " dense_1 (Dense)             (None, 1)                 51        \n",
      "                                                                 \n",
      "=================================================================\n",
      "Total params: 55451 (216.61 KB)\n",
      "Trainable params: 55451 (216.61 KB)\n",
      "Non-trainable params: 0 (0.00 Byte)\n",
      "_________________________________________________________________\n"
     ]
    }
   ],
   "source": [
    "from keras.models import Sequential\n",
    "from keras.layers import LSTM, Dense, Dropout\n",
    "\n",
    "# Initialize the model\n",
    "model = Sequential()\n",
    "\n",
    "# Add the LSTM layers\n",
    "model.add(LSTM(units=50, return_sequences=True, input_shape=(x_train.shape[1], x_train.shape[2])))\n",
    "model.add(Dropout(0.2))\n",
    "\n",
    "model.add(LSTM(units=50, return_sequences=True))\n",
    "model.add(Dropout(0.2))\n",
    "\n",
    "model.add(LSTM(units=50))\n",
    "model.add(Dropout(0.2))\n",
    "\n",
    "# Add the output layer (for binary classification)\n",
    "model.add(Dense(units=1, activation='sigmoid'))\n",
    "\n",
    "# Compile the model\n",
    "model.compile(optimizer='adam', loss='binary_crossentropy', metrics=['accuracy'])\n",
    "\n",
    "# Summary of the model\n",
    "model.summary()\n"
   ]
  },
  {
   "cell_type": "code",
   "execution_count": 29,
   "metadata": {},
   "outputs": [
    {
     "name": "stdout",
     "output_type": "stream",
     "text": [
      "Epoch 1/10\n",
      "WARNING:tensorflow:From C:\\Users\\0983\\AppData\\Roaming\\Python\\Python310\\site-packages\\keras\\src\\utils\\tf_utils.py:492: The name tf.ragged.RaggedTensorValue is deprecated. Please use tf.compat.v1.ragged.RaggedTensorValue instead.\n",
      "\n",
      "WARNING:tensorflow:From C:\\Users\\0983\\AppData\\Roaming\\Python\\Python310\\site-packages\\keras\\src\\engine\\base_layer_utils.py:384: The name tf.executing_eagerly_outside_functions is deprecated. Please use tf.compat.v1.executing_eagerly_outside_functions instead.\n",
      "\n",
      "1774/1774 [==============================] - 32s 12ms/step - loss: 0.0354 - accuracy: 0.9868 - val_loss: 3.1754e-05 - val_accuracy: 1.0000\n",
      "Epoch 2/10\n",
      "1774/1774 [==============================] - 17s 10ms/step - loss: 9.0719e-04 - accuracy: 0.9998 - val_loss: 2.7475e-05 - val_accuracy: 1.0000\n",
      "Epoch 3/10\n",
      "1774/1774 [==============================] - 15s 9ms/step - loss: 3.3213e-05 - accuracy: 1.0000 - val_loss: 3.2710e-06 - val_accuracy: 1.0000\n",
      "Epoch 4/10\n",
      "1774/1774 [==============================] - 16s 9ms/step - loss: 9.7223e-06 - accuracy: 1.0000 - val_loss: 1.0005e-06 - val_accuracy: 1.0000\n",
      "Epoch 5/10\n",
      "1774/1774 [==============================] - 15s 9ms/step - loss: 2.0708e-04 - accuracy: 1.0000 - val_loss: 0.0110 - val_accuracy: 0.9979\n",
      "Epoch 6/10\n",
      "1774/1774 [==============================] - 17s 9ms/step - loss: 1.0998e-04 - accuracy: 1.0000 - val_loss: 5.0316e-07 - val_accuracy: 1.0000\n",
      "Epoch 7/10\n",
      "1774/1774 [==============================] - 19s 11ms/step - loss: 1.7088e-06 - accuracy: 1.0000 - val_loss: 2.3253e-07 - val_accuracy: 1.0000\n",
      "Epoch 8/10\n",
      "1774/1774 [==============================] - 17s 10ms/step - loss: 9.9575e-07 - accuracy: 1.0000 - val_loss: 9.3872e-08 - val_accuracy: 1.0000\n",
      "Epoch 9/10\n",
      "1774/1774 [==============================] - 15s 8ms/step - loss: 3.7139e-07 - accuracy: 1.0000 - val_loss: 3.8405e-08 - val_accuracy: 1.0000\n",
      "Epoch 10/10\n",
      "1774/1774 [==============================] - 16s 9ms/step - loss: 5.9862e-04 - accuracy: 0.9999 - val_loss: 4.3628e-07 - val_accuracy: 1.0000\n",
      "761/761 [==============================] - 3s 3ms/step - loss: 4.3628e-07 - accuracy: 1.0000\n",
      "Test accuracy: 1.0\n"
     ]
    }
   ],
   "source": [
    "# Fit the model\n",
    "history = model.fit(x_train, y_train, epochs=10, batch_size=32, validation_data=(x_test, y_test))\n",
    "\n",
    "# Evaluate the model on the test data\n",
    "test_loss, test_acc = model.evaluate(x_test, y_test)\n",
    "print(f\"Test accuracy: {test_acc}\")\n"
   ]
  },
  {
   "cell_type": "code",
   "execution_count": 30,
   "metadata": {},
   "outputs": [
    {
     "name": "stdout",
     "output_type": "stream",
     "text": [
      "761/761 [==============================] - 5s 3ms/step\n",
      "              precision    recall  f1-score   support\n",
      "\n",
      "           0       1.00      1.00      1.00     15990\n",
      "           1       1.00      1.00      1.00      8337\n",
      "\n",
      "    accuracy                           1.00     24327\n",
      "   macro avg       1.00      1.00      1.00     24327\n",
      "weighted avg       1.00      1.00      1.00     24327\n",
      "\n"
     ]
    }
   ],
   "source": [
    "\n",
    "\n",
    "# Evaluate the model on the test data\n",
    "y_pred = model.predict(x_test)\n",
    "\n",
    "# Convert probabilities to binary output (since the output layer uses sigmoid activation)\n",
    "y_pred = (y_pred > 0.5)\n",
    "\n",
    "# Generate the classification report\n",
    "report = classification_report(y_test, y_pred)\n",
    "print(report)\n"
   ]
  }
 ],
 "metadata": {
  "kernelspec": {
   "display_name": "Python 3",
   "language": "python",
   "name": "python3"
  },
  "language_info": {
   "codemirror_mode": {
    "name": "ipython",
    "version": 3
   },
   "file_extension": ".py",
   "mimetype": "text/x-python",
   "name": "python",
   "nbconvert_exporter": "python",
   "pygments_lexer": "ipython3",
   "version": "3.10.8"
  }
 },
 "nbformat": 4,
 "nbformat_minor": 2
}
