{
 "cells": [
  {
   "attachments": {},
   "cell_type": "markdown",
   "metadata": {},
   "source": [
    "# **TK89910-Prioritising Hospital Admission according to emergency using machine Learning**"
   ]
  },
  {
   "attachments": {},
   "cell_type": "markdown",
   "metadata": {},
   "source": [
    "# **import Statements**"
   ]
  },
  {
   "cell_type": "code",
   "execution_count": 1,
   "metadata": {},
   "outputs": [],
   "source": [
    "import pandas as pd\n",
    "from matplotlib import pyplot as plt\n",
    "import seaborn as sns\n",
    "from sklearn.linear_model import LogisticRegression\n",
    "from sklearn.naive_bayes import GaussianNB\n",
    "from sklearn.tree import DecisionTreeClassifier\n",
    "from sklearn.ensemble import RandomForestClassifier\n",
    "from sklearn.neural_network import MLPClassifier\n",
    "from sklearn.svm import SVC\n",
    "from sklearn.model_selection import train_test_split\n",
    "from sklearn.metrics import accuracy_score, classification_report\n",
    "from sklearn.preprocessing import LabelEncoder\n"
   ]
  },
  {
   "cell_type": "code",
   "execution_count": 2,
   "metadata": {},
   "outputs": [],
   "source": [
    "data = pd.read_csv(r'EDAdmissionDataset.csv')"
   ]
  },
  {
   "cell_type": "code",
   "execution_count": 3,
   "metadata": {},
   "outputs": [
    {
     "data": {
      "text/html": [
       "<div>\n",
       "<style scoped>\n",
       "    .dataframe tbody tr th:only-of-type {\n",
       "        vertical-align: middle;\n",
       "    }\n",
       "\n",
       "    .dataframe tbody tr th {\n",
       "        vertical-align: top;\n",
       "    }\n",
       "\n",
       "    .dataframe thead th {\n",
       "        text-align: right;\n",
       "    }\n",
       "</style>\n",
       "<table border=\"1\" class=\"dataframe\">\n",
       "  <thead>\n",
       "    <tr style=\"text-align: right;\">\n",
       "      <th></th>\n",
       "      <th>hospital</th>\n",
       "      <th>sex</th>\n",
       "      <th>age</th>\n",
       "      <th>patient_num_hr</th>\n",
       "      <th>arrival_mode</th>\n",
       "      <th>injury</th>\n",
       "      <th>complaint</th>\n",
       "      <th>mental</th>\n",
       "      <th>pain</th>\n",
       "      <th>pain_scale</th>\n",
       "      <th>...</th>\n",
       "      <th>saturation</th>\n",
       "      <th>KTAS_RN</th>\n",
       "      <th>diagnosis</th>\n",
       "      <th>result</th>\n",
       "      <th>KTAS_expert</th>\n",
       "      <th>error_code</th>\n",
       "      <th>stay_min</th>\n",
       "      <th>KTAS_duration_min</th>\n",
       "      <th>mistriage</th>\n",
       "      <th>admissions</th>\n",
       "    </tr>\n",
       "  </thead>\n",
       "  <tbody>\n",
       "    <tr>\n",
       "      <th>0</th>\n",
       "      <td>1</td>\n",
       "      <td>1</td>\n",
       "      <td>71</td>\n",
       "      <td>3</td>\n",
       "      <td>car</td>\n",
       "      <td>1</td>\n",
       "      <td>right ocular pain</td>\n",
       "      <td>1</td>\n",
       "      <td>1</td>\n",
       "      <td>2</td>\n",
       "      <td>...</td>\n",
       "      <td>100.0</td>\n",
       "      <td>2</td>\n",
       "      <td>Corneal abrasion</td>\n",
       "      <td>discharge</td>\n",
       "      <td>4</td>\n",
       "      <td>physical_exam</td>\n",
       "      <td>86</td>\n",
       "      <td>5.00</td>\n",
       "      <td>1</td>\n",
       "      <td>0</td>\n",
       "    </tr>\n",
       "    <tr>\n",
       "      <th>1</th>\n",
       "      <td>0</td>\n",
       "      <td>0</td>\n",
       "      <td>56</td>\n",
       "      <td>12</td>\n",
       "      <td>car</td>\n",
       "      <td>1</td>\n",
       "      <td>right forearm burn</td>\n",
       "      <td>1</td>\n",
       "      <td>1</td>\n",
       "      <td>2</td>\n",
       "      <td>...</td>\n",
       "      <td>NaN</td>\n",
       "      <td>4</td>\n",
       "      <td>Burn of hand, firts degree dorsum</td>\n",
       "      <td>discharge</td>\n",
       "      <td>5</td>\n",
       "      <td>pain</td>\n",
       "      <td>64</td>\n",
       "      <td>3.95</td>\n",
       "      <td>1</td>\n",
       "      <td>0</td>\n",
       "    </tr>\n",
       "    <tr>\n",
       "      <th>2</th>\n",
       "      <td>1</td>\n",
       "      <td>0</td>\n",
       "      <td>68</td>\n",
       "      <td>8</td>\n",
       "      <td>ambulance</td>\n",
       "      <td>1</td>\n",
       "      <td>arm pain, Lt</td>\n",
       "      <td>1</td>\n",
       "      <td>1</td>\n",
       "      <td>2</td>\n",
       "      <td>...</td>\n",
       "      <td>98.0</td>\n",
       "      <td>4</td>\n",
       "      <td>Fracture of surgical neck of humerus, closed</td>\n",
       "      <td>ward</td>\n",
       "      <td>5</td>\n",
       "      <td>pain</td>\n",
       "      <td>862</td>\n",
       "      <td>1.00</td>\n",
       "      <td>1</td>\n",
       "      <td>1</td>\n",
       "    </tr>\n",
       "    <tr>\n",
       "      <th>3</th>\n",
       "      <td>0</td>\n",
       "      <td>1</td>\n",
       "      <td>71</td>\n",
       "      <td>8</td>\n",
       "      <td>walking</td>\n",
       "      <td>0</td>\n",
       "      <td>ascites tapping</td>\n",
       "      <td>1</td>\n",
       "      <td>1</td>\n",
       "      <td>3</td>\n",
       "      <td>...</td>\n",
       "      <td>NaN</td>\n",
       "      <td>4</td>\n",
       "      <td>Alcoholic liver cirrhosis with ascites</td>\n",
       "      <td>discharge</td>\n",
       "      <td>5</td>\n",
       "      <td>underlying</td>\n",
       "      <td>108</td>\n",
       "      <td>9.83</td>\n",
       "      <td>1</td>\n",
       "      <td>0</td>\n",
       "    </tr>\n",
       "    <tr>\n",
       "      <th>4</th>\n",
       "      <td>0</td>\n",
       "      <td>1</td>\n",
       "      <td>58</td>\n",
       "      <td>4</td>\n",
       "      <td>car</td>\n",
       "      <td>0</td>\n",
       "      <td>distension, abd</td>\n",
       "      <td>1</td>\n",
       "      <td>1</td>\n",
       "      <td>3</td>\n",
       "      <td>...</td>\n",
       "      <td>NaN</td>\n",
       "      <td>4</td>\n",
       "      <td>Ascites</td>\n",
       "      <td>discharge</td>\n",
       "      <td>5</td>\n",
       "      <td>on_set</td>\n",
       "      <td>109</td>\n",
       "      <td>6.60</td>\n",
       "      <td>1</td>\n",
       "      <td>0</td>\n",
       "    </tr>\n",
       "  </tbody>\n",
       "</table>\n",
       "<p>5 rows × 25 columns</p>\n",
       "</div>"
      ],
      "text/plain": [
       "   hospital  sex  age  patient_num_hr arrival_mode  injury  \\\n",
       "0         1    1   71               3          car       1   \n",
       "1         0    0   56              12          car       1   \n",
       "2         1    0   68               8    ambulance       1   \n",
       "3         0    1   71               8      walking       0   \n",
       "4         0    1   58               4          car       0   \n",
       "\n",
       "            complaint  mental  pain  pain_scale  ...  saturation  KTAS_RN  \\\n",
       "0   right ocular pain       1     1           2  ...       100.0        2   \n",
       "1  right forearm burn       1     1           2  ...         NaN        4   \n",
       "2        arm pain, Lt       1     1           2  ...        98.0        4   \n",
       "3     ascites tapping       1     1           3  ...         NaN        4   \n",
       "4     distension, abd       1     1           3  ...         NaN        4   \n",
       "\n",
       "                                      diagnosis     result  KTAS_expert  \\\n",
       "0                              Corneal abrasion  discharge            4   \n",
       "1             Burn of hand, firts degree dorsum  discharge            5   \n",
       "2  Fracture of surgical neck of humerus, closed       ward            5   \n",
       "3        Alcoholic liver cirrhosis with ascites  discharge            5   \n",
       "4                                       Ascites  discharge            5   \n",
       "\n",
       "      error_code  stay_min KTAS_duration_min mistriage  admissions  \n",
       "0  physical_exam        86              5.00         1           0  \n",
       "1           pain        64              3.95         1           0  \n",
       "2           pain       862              1.00         1           1  \n",
       "3     underlying       108              9.83         1           0  \n",
       "4         on_set       109              6.60         1           0  \n",
       "\n",
       "[5 rows x 25 columns]"
      ]
     },
     "execution_count": 3,
     "metadata": {},
     "output_type": "execute_result"
    }
   ],
   "source": [
    "data.head()"
   ]
  },
  {
   "cell_type": "code",
   "execution_count": 4,
   "metadata": {},
   "outputs": [
    {
     "data": {
      "text/html": [
       "<div>\n",
       "<style scoped>\n",
       "    .dataframe tbody tr th:only-of-type {\n",
       "        vertical-align: middle;\n",
       "    }\n",
       "\n",
       "    .dataframe tbody tr th {\n",
       "        vertical-align: top;\n",
       "    }\n",
       "\n",
       "    .dataframe thead th {\n",
       "        text-align: right;\n",
       "    }\n",
       "</style>\n",
       "<table border=\"1\" class=\"dataframe\">\n",
       "  <thead>\n",
       "    <tr style=\"text-align: right;\">\n",
       "      <th></th>\n",
       "      <th>hospital</th>\n",
       "      <th>sex</th>\n",
       "      <th>age</th>\n",
       "      <th>patient_num_hr</th>\n",
       "      <th>arrival_mode</th>\n",
       "      <th>injury</th>\n",
       "      <th>complaint</th>\n",
       "      <th>mental</th>\n",
       "      <th>pain</th>\n",
       "      <th>pain_scale</th>\n",
       "      <th>...</th>\n",
       "      <th>saturation</th>\n",
       "      <th>KTAS_RN</th>\n",
       "      <th>diagnosis</th>\n",
       "      <th>result</th>\n",
       "      <th>KTAS_expert</th>\n",
       "      <th>error_code</th>\n",
       "      <th>stay_min</th>\n",
       "      <th>KTAS_duration_min</th>\n",
       "      <th>mistriage</th>\n",
       "      <th>admissions</th>\n",
       "    </tr>\n",
       "  </thead>\n",
       "  <tbody>\n",
       "    <tr>\n",
       "      <th>81083</th>\n",
       "      <td>1</td>\n",
       "      <td>1</td>\n",
       "      <td>79</td>\n",
       "      <td>5</td>\n",
       "      <td>ambulance</td>\n",
       "      <td>0</td>\n",
       "      <td>mental change</td>\n",
       "      <td>1</td>\n",
       "      <td>0</td>\n",
       "      <td>0</td>\n",
       "      <td>...</td>\n",
       "      <td>95.0</td>\n",
       "      <td>2</td>\n",
       "      <td>Cerebral infarction due to unspecified occlusi...</td>\n",
       "      <td>ward</td>\n",
       "      <td>2</td>\n",
       "      <td>no_error</td>\n",
       "      <td>1995</td>\n",
       "      <td>3.0</td>\n",
       "      <td>0</td>\n",
       "      <td>1</td>\n",
       "    </tr>\n",
       "    <tr>\n",
       "      <th>81084</th>\n",
       "      <td>1</td>\n",
       "      <td>1</td>\n",
       "      <td>81</td>\n",
       "      <td>2</td>\n",
       "      <td>car</td>\n",
       "      <td>0</td>\n",
       "      <td>dysuria</td>\n",
       "      <td>1</td>\n",
       "      <td>0</td>\n",
       "      <td>0</td>\n",
       "      <td>...</td>\n",
       "      <td>97.0</td>\n",
       "      <td>4</td>\n",
       "      <td>Dysuria</td>\n",
       "      <td>discharge</td>\n",
       "      <td>4</td>\n",
       "      <td>no_error</td>\n",
       "      <td>1000</td>\n",
       "      <td>2.0</td>\n",
       "      <td>0</td>\n",
       "      <td>0</td>\n",
       "    </tr>\n",
       "    <tr>\n",
       "      <th>81085</th>\n",
       "      <td>1</td>\n",
       "      <td>1</td>\n",
       "      <td>81</td>\n",
       "      <td>17</td>\n",
       "      <td>ambulance</td>\n",
       "      <td>0</td>\n",
       "      <td>dizziness</td>\n",
       "      <td>1</td>\n",
       "      <td>0</td>\n",
       "      <td>0</td>\n",
       "      <td>...</td>\n",
       "      <td>99.0</td>\n",
       "      <td>3</td>\n",
       "      <td>Dizziness and giddiness</td>\n",
       "      <td>discharge</td>\n",
       "      <td>3</td>\n",
       "      <td>no_error</td>\n",
       "      <td>310</td>\n",
       "      <td>4.0</td>\n",
       "      <td>0</td>\n",
       "      <td>0</td>\n",
       "    </tr>\n",
       "    <tr>\n",
       "      <th>81086</th>\n",
       "      <td>1</td>\n",
       "      <td>0</td>\n",
       "      <td>81</td>\n",
       "      <td>2</td>\n",
       "      <td>ambulance</td>\n",
       "      <td>1</td>\n",
       "      <td>Sensory, Decreased</td>\n",
       "      <td>1</td>\n",
       "      <td>0</td>\n",
       "      <td>0</td>\n",
       "      <td>...</td>\n",
       "      <td>98.0</td>\n",
       "      <td>3</td>\n",
       "      <td>Cord compression, unspecified</td>\n",
       "      <td>op</td>\n",
       "      <td>3</td>\n",
       "      <td>no_error</td>\n",
       "      <td>475</td>\n",
       "      <td>5.0</td>\n",
       "      <td>0</td>\n",
       "      <td>1</td>\n",
       "    </tr>\n",
       "    <tr>\n",
       "      <th>81087</th>\n",
       "      <td>1</td>\n",
       "      <td>1</td>\n",
       "      <td>87</td>\n",
       "      <td>8</td>\n",
       "      <td>private_ambulance</td>\n",
       "      <td>0</td>\n",
       "      <td>orthopnea</td>\n",
       "      <td>1</td>\n",
       "      <td>0</td>\n",
       "      <td>0</td>\n",
       "      <td>...</td>\n",
       "      <td>98.0</td>\n",
       "      <td>3</td>\n",
       "      <td>Dyspnoea</td>\n",
       "      <td>ward</td>\n",
       "      <td>3</td>\n",
       "      <td>no_error</td>\n",
       "      <td>887</td>\n",
       "      <td>2.0</td>\n",
       "      <td>0</td>\n",
       "      <td>1</td>\n",
       "    </tr>\n",
       "  </tbody>\n",
       "</table>\n",
       "<p>5 rows × 25 columns</p>\n",
       "</div>"
      ],
      "text/plain": [
       "       hospital  sex  age  patient_num_hr       arrival_mode  injury  \\\n",
       "81083         1    1   79               5          ambulance       0   \n",
       "81084         1    1   81               2                car       0   \n",
       "81085         1    1   81              17          ambulance       0   \n",
       "81086         1    0   81               2          ambulance       1   \n",
       "81087         1    1   87               8  private_ambulance       0   \n",
       "\n",
       "                complaint  mental  pain  pain_scale  ...  saturation  KTAS_RN  \\\n",
       "81083       mental change       1     0           0  ...        95.0        2   \n",
       "81084             dysuria       1     0           0  ...        97.0        4   \n",
       "81085           dizziness       1     0           0  ...        99.0        3   \n",
       "81086  Sensory, Decreased       1     0           0  ...        98.0        3   \n",
       "81087           orthopnea       1     0           0  ...        98.0        3   \n",
       "\n",
       "                                               diagnosis     result  \\\n",
       "81083  Cerebral infarction due to unspecified occlusi...       ward   \n",
       "81084                                            Dysuria  discharge   \n",
       "81085                            Dizziness and giddiness  discharge   \n",
       "81086                      Cord compression, unspecified         op   \n",
       "81087                                           Dyspnoea       ward   \n",
       "\n",
       "       KTAS_expert  error_code  stay_min KTAS_duration_min mistriage  \\\n",
       "81083            2    no_error      1995               3.0         0   \n",
       "81084            4    no_error      1000               2.0         0   \n",
       "81085            3    no_error       310               4.0         0   \n",
       "81086            3    no_error       475               5.0         0   \n",
       "81087            3    no_error       887               2.0         0   \n",
       "\n",
       "       admissions  \n",
       "81083           1  \n",
       "81084           0  \n",
       "81085           0  \n",
       "81086           1  \n",
       "81087           1  \n",
       "\n",
       "[5 rows x 25 columns]"
      ]
     },
     "execution_count": 4,
     "metadata": {},
     "output_type": "execute_result"
    }
   ],
   "source": [
    "data.tail()"
   ]
  },
  {
   "attachments": {},
   "cell_type": "markdown",
   "metadata": {},
   "source": [
    "# **Information about Data set**"
   ]
  },
  {
   "cell_type": "code",
   "execution_count": 5,
   "metadata": {},
   "outputs": [
    {
     "data": {
      "text/plain": [
       "(81088, 25)"
      ]
     },
     "execution_count": 5,
     "metadata": {},
     "output_type": "execute_result"
    }
   ],
   "source": [
    "# check the shape of the data set\n",
    "data.shape"
   ]
  },
  {
   "cell_type": "code",
   "execution_count": 6,
   "metadata": {},
   "outputs": [
    {
     "data": {
      "text/plain": [
       "Index(['hospital', 'sex', 'age', 'patient_num_hr', 'arrival_mode', 'injury',\n",
       "       'complaint', 'mental', 'pain', 'pain_scale', 'SBP', 'DBP', 'HR', 'RR',\n",
       "       'BT', 'saturation', 'KTAS_RN', 'diagnosis', 'result', 'KTAS_expert',\n",
       "       'error_code', 'stay_min', 'KTAS_duration_min', 'mistriage',\n",
       "       'admissions'],\n",
       "      dtype='object')"
      ]
     },
     "execution_count": 6,
     "metadata": {},
     "output_type": "execute_result"
    }
   ],
   "source": [
    "# show the what are the column thare in this data set\n",
    "data.columns"
   ]
  },
  {
   "cell_type": "code",
   "execution_count": 7,
   "metadata": {},
   "outputs": [
    {
     "name": "stdout",
     "output_type": "stream",
     "text": [
      "<class 'pandas.core.frame.DataFrame'>\n",
      "RangeIndex: 81088 entries, 0 to 81087\n",
      "Data columns (total 25 columns):\n",
      " #   Column             Non-Null Count  Dtype  \n",
      "---  ------             --------------  -----  \n",
      " 0   hospital           81088 non-null  int64  \n",
      " 1   sex                81088 non-null  int64  \n",
      " 2   age                81088 non-null  int64  \n",
      " 3   patient_num_hr     81088 non-null  int64  \n",
      " 4   arrival_mode       81088 non-null  object \n",
      " 5   injury             81088 non-null  int64  \n",
      " 6   complaint          81088 non-null  object \n",
      " 7   mental             81088 non-null  int64  \n",
      " 8   pain               81088 non-null  int64  \n",
      " 9   pain_scale         81088 non-null  int64  \n",
      " 10  SBP                81088 non-null  int64  \n",
      " 11  DBP                81088 non-null  int64  \n",
      " 12  HR                 81088 non-null  int64  \n",
      " 13  RR                 81088 non-null  int64  \n",
      " 14  BT                 81088 non-null  float64\n",
      " 15  saturation         37056 non-null  float64\n",
      " 16  KTAS_RN            81088 non-null  int64  \n",
      " 17  diagnosis          80960 non-null  object \n",
      " 18  result             81088 non-null  object \n",
      " 19  KTAS_expert        81088 non-null  int64  \n",
      " 20  error_code         81088 non-null  object \n",
      " 21  stay_min           81088 non-null  int64  \n",
      " 22  KTAS_duration_min  81088 non-null  float64\n",
      " 23  mistriage          81088 non-null  int64  \n",
      " 24  admissions         81088 non-null  int64  \n",
      "dtypes: float64(3), int64(17), object(5)\n",
      "memory usage: 15.5+ MB\n"
     ]
    }
   ],
   "source": [
    "# check the information about column\n",
    "data.info()"
   ]
  },
  {
   "cell_type": "code",
   "execution_count": 8,
   "metadata": {},
   "outputs": [
    {
     "data": {
      "text/plain": [
       "hospital                 0\n",
       "sex                      0\n",
       "age                      0\n",
       "patient_num_hr           0\n",
       "arrival_mode             0\n",
       "injury                   0\n",
       "complaint                0\n",
       "mental                   0\n",
       "pain                     0\n",
       "pain_scale               0\n",
       "SBP                      0\n",
       "DBP                      0\n",
       "HR                       0\n",
       "RR                       0\n",
       "BT                       0\n",
       "saturation           44032\n",
       "KTAS_RN                  0\n",
       "diagnosis              128\n",
       "result                   0\n",
       "KTAS_expert              0\n",
       "error_code               0\n",
       "stay_min                 0\n",
       "KTAS_duration_min        0\n",
       "mistriage                0\n",
       "admissions               0\n",
       "dtype: int64"
      ]
     },
     "execution_count": 8,
     "metadata": {},
     "output_type": "execute_result"
    }
   ],
   "source": [
    "# check the null value\n",
    "data.isnull().sum()"
   ]
  },
  {
   "cell_type": "code",
   "execution_count": 9,
   "metadata": {},
   "outputs": [
    {
     "data": {
      "text/plain": [
       "0        False\n",
       "1        False\n",
       "2        False\n",
       "3        False\n",
       "4        False\n",
       "         ...  \n",
       "81083     True\n",
       "81084     True\n",
       "81085     True\n",
       "81086     True\n",
       "81087     True\n",
       "Length: 81088, dtype: bool"
      ]
     },
     "execution_count": 9,
     "metadata": {},
     "output_type": "execute_result"
    }
   ],
   "source": [
    "# check the duplicate value\n",
    "data.duplicated()"
   ]
  },
  {
   "cell_type": "code",
   "execution_count": 10,
   "metadata": {},
   "outputs": [
    {
     "data": {
      "text/plain": [
       "admissions\n",
       "0    53248\n",
       "1    27840\n",
       "Name: count, dtype: int64"
      ]
     },
     "execution_count": 10,
     "metadata": {},
     "output_type": "execute_result"
    }
   ],
   "source": [
    "# check the values of target column\n",
    "data['admissions'].value_counts()"
   ]
  },
  {
   "attachments": {},
   "cell_type": "markdown",
   "metadata": {},
   "source": [
    "## **EDA**"
   ]
  },
  {
   "cell_type": "code",
   "execution_count": null,
   "metadata": {},
   "outputs": [
    {
     "data": {
      "text/plain": [
       "<AxesSubplot:xlabel='admissions', ylabel='Count'>"
      ]
     },
     "execution_count": 74,
     "metadata": {},
     "output_type": "execute_result"
    },
    {
     "data": {
      "image/png": "[encoded data removed]",
      "text/plain": [
       "<Figure size 640x480 with 1 Axes>"
      ]
     },
     "metadata": {},
     "output_type": "display_data"
    }
   ],
   "source": [
    "sns.histplot(data[\"admissions\"])"
   ]
  },
  {
   "cell_type": "code",
   "execution_count": null,
   "metadata": {},
   "outputs": [
    {
     "name": "stderr",
     "output_type": "stream",
     "text": [
      "c:\\ProgramData\\Anaconda3\\lib\\site-packages\\seaborn\\_decorators.py:36: FutureWarning: Pass the following variable as a keyword arg: x. From version 0.12, the only valid positional argument will be `data`, and passing other arguments without an explicit keyword will result in an error or misinterpretation.\n",
      "  warnings.warn(\n"
     ]
    },
    {
     "data": {
      "text/plain": [
       "<AxesSubplot:xlabel='admissions', ylabel='count'>"
      ]
     },
     "execution_count": 75,
     "metadata": {},
     "output_type": "execute_result"
    },
    {
     "data": {
      "image/png": "[encoded data removed]",
      "text/plain": [
       "<Figure size 640x480 with 1 Axes>"
      ]
     },
     "metadata": {},
     "output_type": "display_data"
    }
   ],
   "source": [
    "sns.countplot(data['admissions'])"
   ]
  },
  {
   "cell_type": "code",
   "execution_count": null,
   "metadata": {},
   "outputs": [
    {
     "data": {
      "text/plain": [
       "<AxesSubplot:xlabel='age', ylabel='Count'>"
      ]
     },
     "execution_count": 76,
     "metadata": {},
     "output_type": "execute_result"
    },
    {
     "data": {
      "image/png": "[encoded data removed]",
      "text/plain": [
       "<Figure size 640x480 with 1 Axes>"
      ]
     },
     "metadata": {},
     "output_type": "display_data"
    }
   ],
   "source": [
    "sns.histplot(data[\"age\"])"
   ]
  },
  {
   "cell_type": "code",
   "execution_count": null,
   "metadata": {},
   "outputs": [
    {
     "data": {
      "text/plain": [
       "<AxesSubplot:xlabel='sex', ylabel='Count'>"
      ]
     },
     "execution_count": 77,
     "metadata": {},
     "output_type": "execute_result"
    },
    {
     "data": {
      "image/png": "[encoded data removed]",
      "text/plain": [
       "<Figure size 640x480 with 1 Axes>"
      ]
     },
     "metadata": {},
     "output_type": "display_data"
    }
   ],
   "source": [
    "sns.histplot(data[\"sex\"])"
   ]
  },
  {
   "cell_type": "code",
   "execution_count": null,
   "metadata": {},
   "outputs": [
    {
     "data": {
      "image/png": "[encoded data removed]",
      "text/plain": [
       "<Figure size 600x800 with 1 Axes>"
      ]
     },
     "metadata": {},
     "output_type": "display_data"
    }
   ],
   "source": [
    "data['admissions'].value_counts().plot.pie(explode=[0.04,0.04], autopct='%1.1f%%',  startangle=90,shadow=True, figsize=(6,8))\n",
    "plt.title('Pie Chart for result')\n",
    "plt.show()"
   ]
  },
  {
   "cell_type": "code",
   "execution_count": null,
   "metadata": {},
   "outputs": [
    {
     "name": "stderr",
     "output_type": "stream",
     "text": [
      "c:\\ProgramData\\Anaconda3\\lib\\site-packages\\seaborn\\distributions.py:2619: FutureWarning: `distplot` is a deprecated function and will be removed in a future version. Please adapt your code to use either `displot` (a figure-level function with similar flexibility) or `histplot` (an axes-level function for histograms).\n",
      "  warnings.warn(msg, FutureWarning)\n"
     ]
    },
    {
     "data": {
      "text/plain": [
       "<AxesSubplot:xlabel='admissions', ylabel='Density'>"
      ]
     },
     "execution_count": 79,
     "metadata": {},
     "output_type": "execute_result"
    },
    {
     "data": {
      "image/png": "[encoded data removed]",
      "text/plain": [
       "<Figure size 640x480 with 1 Axes>"
      ]
     },
     "metadata": {},
     "output_type": "display_data"
    }
   ],
   "source": [
    "sns.distplot(data['admissions'])"
   ]
  },
  {
   "attachments": {},
   "cell_type": "markdown",
   "metadata": {},
   "source": [
    "# **Preprocessing**"
   ]
  },
  {
   "cell_type": "code",
   "execution_count": 12,
   "metadata": {},
   "outputs": [
    {
     "data": {
      "text/plain": [
       "np.int64(44160)"
      ]
     },
     "execution_count": 12,
     "metadata": {},
     "output_type": "execute_result"
    }
   ],
   "source": [
    "data.isnull().sum().sum()"
   ]
  },
  {
   "cell_type": "code",
   "execution_count": 13,
   "metadata": {},
   "outputs": [],
   "source": [
    "# apply the type costing\n",
    "data['arrival_mode'] = data['arrival_mode'].astype('str')\n",
    "data['complaint'] = data['complaint'].astype('str')   \n",
    "data['diagnosis'] = data['diagnosis'].astype('str')\n",
    "data['result'] = data['result'].astype('str')\n",
    "data['error_code'] = data['error_code'].astype('str')"
   ]
  },
  {
   "cell_type": "code",
   "execution_count": 14,
   "metadata": {},
   "outputs": [],
   "source": [
    "le = LabelEncoder()"
   ]
  },
  {
   "cell_type": "code",
   "execution_count": 15,
   "metadata": {},
   "outputs": [],
   "source": [
    "# Apply The Label Encoding\n",
    "data['arrival_mode'] = pd.Series(le.fit_transform(data['arrival_mode']))\n",
    "data['complaint'] = pd.Series(le.fit_transform(data['complaint']))\n",
    "data['diagnosis'] = pd.Series(le.fit_transform(data['diagnosis']))\n",
    "data['result'] = pd.Series(le.fit_transform(data['result']))\n",
    "data['error_code'] = pd.Series(le.fit_transform(data['error_code']))\n"
   ]
  },
  {
   "cell_type": "code",
   "execution_count": 16,
   "metadata": {},
   "outputs": [],
   "source": [
    "data['saturation'] = data['saturation'].fillna(data['saturation'].mean())"
   ]
  },
  {
   "cell_type": "code",
   "execution_count": 17,
   "metadata": {},
   "outputs": [
    {
     "data": {
      "text/plain": [
       "np.int64(0)"
      ]
     },
     "execution_count": 17,
     "metadata": {},
     "output_type": "execute_result"
    }
   ],
   "source": [
    "data.isnull().sum().sum()"
   ]
  },
  {
   "cell_type": "code",
   "execution_count": 18,
   "metadata": {},
   "outputs": [
    {
     "name": "stdout",
     "output_type": "stream",
     "text": [
      "<class 'pandas.core.frame.DataFrame'>\n",
      "RangeIndex: 81088 entries, 0 to 81087\n",
      "Data columns (total 25 columns):\n",
      " #   Column             Non-Null Count  Dtype  \n",
      "---  ------             --------------  -----  \n",
      " 0   hospital           81088 non-null  int64  \n",
      " 1   sex                81088 non-null  int64  \n",
      " 2   age                81088 non-null  int64  \n",
      " 3   patient_num_hr     81088 non-null  int64  \n",
      " 4   arrival_mode       81088 non-null  int64  \n",
      " 5   injury             81088 non-null  int64  \n",
      " 6   complaint          81088 non-null  int64  \n",
      " 7   mental             81088 non-null  int64  \n",
      " 8   pain               81088 non-null  int64  \n",
      " 9   pain_scale         81088 non-null  int64  \n",
      " 10  SBP                81088 non-null  int64  \n",
      " 11  DBP                81088 non-null  int64  \n",
      " 12  HR                 81088 non-null  int64  \n",
      " 13  RR                 81088 non-null  int64  \n",
      " 14  BT                 81088 non-null  float64\n",
      " 15  saturation         81088 non-null  float64\n",
      " 16  KTAS_RN            81088 non-null  int64  \n",
      " 17  diagnosis          81088 non-null  int64  \n",
      " 18  result             81088 non-null  int64  \n",
      " 19  KTAS_expert        81088 non-null  int64  \n",
      " 20  error_code         81088 non-null  int64  \n",
      " 21  stay_min           81088 non-null  int64  \n",
      " 22  KTAS_duration_min  81088 non-null  float64\n",
      " 23  mistriage          81088 non-null  int64  \n",
      " 24  admissions         81088 non-null  int64  \n",
      "dtypes: float64(3), int64(22)\n",
      "memory usage: 15.5 MB\n"
     ]
    }
   ],
   "source": [
    "data.info()"
   ]
  },
  {
   "attachments": {},
   "cell_type": "markdown",
   "metadata": {},
   "source": [
    "# **Splite the Data**"
   ]
  },
  {
   "cell_type": "code",
   "execution_count": 19,
   "metadata": {},
   "outputs": [],
   "source": [
    "x = data.drop(\"admissions\", axis=1)\n",
    "y = data[\"admissions\"]"
   ]
  },
  {
   "cell_type": "code",
   "execution_count": 20,
   "metadata": {},
   "outputs": [
    {
     "data": {
      "text/plain": [
       "(81088, 24)"
      ]
     },
     "execution_count": 20,
     "metadata": {},
     "output_type": "execute_result"
    }
   ],
   "source": [
    "x.shape"
   ]
  },
  {
   "cell_type": "code",
   "execution_count": 21,
   "metadata": {},
   "outputs": [
    {
     "data": {
      "text/plain": [
       "(81088,)"
      ]
     },
     "execution_count": 21,
     "metadata": {},
     "output_type": "execute_result"
    }
   ],
   "source": [
    "y.shape"
   ]
  },
  {
   "attachments": {},
   "cell_type": "markdown",
   "metadata": {},
   "source": [
    "## **split the data**"
   ]
  },
  {
   "cell_type": "code",
   "execution_count": 22,
   "metadata": {},
   "outputs": [],
   "source": [
    "x_train,x_test,y_train,y_test = train_test_split(x,y,test_size=0.3,random_state=72)"
   ]
  },
  {
   "cell_type": "code",
   "execution_count": 23,
   "metadata": {},
   "outputs": [
    {
     "data": {
      "text/plain": [
       "(56761, 24)"
      ]
     },
     "execution_count": 23,
     "metadata": {},
     "output_type": "execute_result"
    }
   ],
   "source": [
    "x_train.shape"
   ]
  },
  {
   "cell_type": "code",
   "execution_count": 24,
   "metadata": {},
   "outputs": [
    {
     "data": {
      "text/plain": [
       "(24327, 24)"
      ]
     },
     "execution_count": 24,
     "metadata": {},
     "output_type": "execute_result"
    }
   ],
   "source": [
    "x_test.shape"
   ]
  },
  {
   "cell_type": "code",
   "execution_count": 25,
   "metadata": {},
   "outputs": [
    {
     "data": {
      "text/plain": [
       "(56761,)"
      ]
     },
     "execution_count": 25,
     "metadata": {},
     "output_type": "execute_result"
    }
   ],
   "source": [
    "y_train.shape"
   ]
  },
  {
   "cell_type": "code",
   "execution_count": 26,
   "metadata": {},
   "outputs": [
    {
     "data": {
      "text/plain": [
       "(24327,)"
      ]
     },
     "execution_count": 26,
     "metadata": {},
     "output_type": "execute_result"
    }
   ],
   "source": [
    "y_test.shape"
   ]
  },
  {
   "attachments": {},
   "cell_type": "markdown",
   "metadata": {},
   "source": [
    "# **Apply algorithms**"
   ]
  },
  {
   "attachments": {},
   "cell_type": "markdown",
   "metadata": {},
   "source": [
    "## **LogisticRegression**"
   ]
  },
  {
   "cell_type": "code",
   "execution_count": 40,
   "metadata": {},
   "outputs": [
    {
     "name": "stderr",
     "output_type": "stream",
     "text": [
      "C:\\Users\\0983\\AppData\\Roaming\\Python\\Python310\\site-packages\\sklearn\\linear_model\\_logistic.py:469: ConvergenceWarning: lbfgs failed to converge (status=1):\n",
      "STOP: TOTAL NO. of ITERATIONS REACHED LIMIT.\n",
      "\n",
      "Increase the number of iterations (max_iter) or scale the data as shown in:\n",
      "    https://scikit-learn.org/stable/modules/preprocessing.html\n",
      "Please also refer to the documentation for alternative solver options:\n",
      "    https://scikit-learn.org/stable/modules/linear_model.html#logistic-regression\n",
      "  n_iter_i = _check_optimize_result(\n"
     ]
    },
    {
     "name": "stdout",
     "output_type": "stream",
     "text": [
      "accuracy_score of LogisticRegression is: 0.7222016689275291\n",
      "Confusion Matrix:\n",
      "[[14054  1936]\n",
      " [ 4822  3515]]\n",
      "classification_report\n",
      "              precision    recall  f1-score   support\n",
      "\n",
      "           0       0.74      0.88      0.81     15990\n",
      "           1       0.64      0.42      0.51      8337\n",
      "\n",
      "    accuracy                           0.72     24327\n",
      "   macro avg       0.69      0.65      0.66     24327\n",
      "weighted avg       0.71      0.72      0.70     24327\n",
      "\n"
     ]
    }
   ],
   "source": [
    "ln = LogisticRegression()\n",
    "ln.fit(x_train,y_train)\n",
    "l_pred = ln.predict(x_test)\n",
    "l_ac = accuracy_score(l_pred, y_test)\n",
    "print(\"accuracy_score of LogisticRegression is\"+\": \"+str(l_ac))\n",
    "# Calculate confusion matrix\n",
    "from sklearn.metrics import accuracy_score, confusion_matrix\n",
    "cm = confusion_matrix(y_test, l_pred)\n",
    "print(\"Confusion Matrix:\")\n",
    "print(cm) \n",
    "report = classification_report(y_test, l_pred)\n",
    "print(\"classification_report\")\n",
    "print(report)"
   ]
  },
  {
   "attachments": {},
   "cell_type": "markdown",
   "metadata": {},
   "source": [
    "## **Naive Bias**"
   ]
  },
  {
   "cell_type": "code",
   "execution_count": 28,
   "metadata": {},
   "outputs": [
    {
     "name": "stdout",
     "output_type": "stream",
     "text": [
      "accuracy_score of Naive Bias is: 0.8954659431906935\n",
      "Confusion Matrix:\n",
      "[[15625   365]\n",
      " [ 2178  6159]]\n",
      "classification_report\n",
      "              precision    recall  f1-score   support\n",
      "\n",
      "           0       0.88      0.98      0.92     15990\n",
      "           1       0.94      0.74      0.83      8337\n",
      "\n",
      "    accuracy                           0.90     24327\n",
      "   macro avg       0.91      0.86      0.88     24327\n",
      "weighted avg       0.90      0.90      0.89     24327\n",
      "\n"
     ]
    }
   ],
   "source": [
    "nb = GaussianNB()\n",
    "nb.fit(x_train,y_train)\n",
    "nb_pred = nb.predict(x_test)\n",
    "nb_ac = accuracy_score(y_test,nb_pred)\n",
    "print(\"accuracy_score of Naive Bias is\"+\": \"+str(nb_ac))\n",
    "# Calculate confusion matrix\n",
    "from sklearn.metrics import accuracy_score, confusion_matrix\n",
    "cm = confusion_matrix(y_test, nb_pred)\n",
    "print(\"Confusion Matrix:\")\n",
    "print(cm)\n",
    "report = classification_report(y_test, nb_pred)\n",
    "print(\"classification_report\")\n",
    "print(report)\n"
   ]
  },
  {
   "attachments": {},
   "cell_type": "markdown",
   "metadata": {},
   "source": [
    "## **Random Forest**"
   ]
  },
  {
   "cell_type": "code",
   "execution_count": 29,
   "metadata": {},
   "outputs": [
    {
     "name": "stdout",
     "output_type": "stream",
     "text": [
      "accuracy_score of RandomForestClassifier is: 0.6572943642865952\n",
      "Confusion Matrix:\n",
      "[[15990     0]\n",
      " [ 8337     0]]\n",
      "classification_report\n",
      "              precision    recall  f1-score   support\n",
      "\n",
      "           0       0.66      1.00      0.79     15990\n",
      "           1       0.00      0.00      0.00      8337\n",
      "\n",
      "    accuracy                           0.66     24327\n",
      "   macro avg       0.33      0.50      0.40     24327\n",
      "weighted avg       0.43      0.66      0.52     24327\n",
      "\n"
     ]
    },
    {
     "name": "stderr",
     "output_type": "stream",
     "text": [
      "C:\\Users\\0983\\AppData\\Roaming\\Python\\Python310\\site-packages\\sklearn\\metrics\\_classification.py:1517: UndefinedMetricWarning: Precision is ill-defined and being set to 0.0 in labels with no predicted samples. Use `zero_division` parameter to control this behavior.\n",
      "  _warn_prf(average, modifier, f\"{metric.capitalize()} is\", len(result))\n",
      "C:\\Users\\0983\\AppData\\Roaming\\Python\\Python310\\site-packages\\sklearn\\metrics\\_classification.py:1517: UndefinedMetricWarning: Precision is ill-defined and being set to 0.0 in labels with no predicted samples. Use `zero_division` parameter to control this behavior.\n",
      "  _warn_prf(average, modifier, f\"{metric.capitalize()} is\", len(result))\n",
      "C:\\Users\\0983\\AppData\\Roaming\\Python\\Python310\\site-packages\\sklearn\\metrics\\_classification.py:1517: UndefinedMetricWarning: Precision is ill-defined and being set to 0.0 in labels with no predicted samples. Use `zero_division` parameter to control this behavior.\n",
      "  _warn_prf(average, modifier, f\"{metric.capitalize()} is\", len(result))\n"
     ]
    }
   ],
   "source": [
    "rn = RandomForestClassifier(ccp_alpha=0.2)\n",
    "rn.fit(x_train,y_train)\n",
    "rn_pred = rn.predict(x_test)\n",
    "rn_ac = accuracy_score(y_test,rn_pred)\n",
    "print(\"accuracy_score of RandomForestClassifier is\"+\": \"+str(rn_ac))\n",
    "# Calculate confusion matrix\n",
    "from sklearn.metrics import accuracy_score, confusion_matrix\n",
    "cm = confusion_matrix(y_test, rn_pred)\n",
    "print(\"Confusion Matrix:\")\n",
    "print(cm)\n",
    "report = classification_report(y_test, rn_pred)\n",
    "print(\"classification_report\")\n",
    "print(report)"
   ]
  },
  {
   "attachments": {},
   "cell_type": "markdown",
   "metadata": {},
   "source": [
    "## **multilayer perceptron**"
   ]
  },
  {
   "cell_type": "code",
   "execution_count": 30,
   "metadata": {},
   "outputs": [
    {
     "name": "stdout",
     "output_type": "stream",
     "text": [
      "accuracy_score of MLPClassifier is: 0.9864759320919143\n",
      "Confusion Matrix:\n",
      "[[15990     0]\n",
      " [  329  8008]]\n",
      "classification_report\n",
      "              precision    recall  f1-score   support\n",
      "\n",
      "           0       0.98      1.00      0.99     15990\n",
      "           1       1.00      0.96      0.98      8337\n",
      "\n",
      "    accuracy                           0.99     24327\n",
      "   macro avg       0.99      0.98      0.98     24327\n",
      "weighted avg       0.99      0.99      0.99     24327\n",
      "\n"
     ]
    }
   ],
   "source": [
    "ml = MLPClassifier()\n",
    "ml.fit(x_train,y_train)\n",
    "ml_pred = ml.predict(x_test)\n",
    "ml_ac = accuracy_score(y_test,ml_pred)\n",
    "print(\"accuracy_score of MLPClassifier is\"+\": \"+str(ml_ac))\n",
    "# Calculate confusion matrix\n",
    "from sklearn.metrics import accuracy_score, confusion_matrix\n",
    "cm = confusion_matrix(y_test, ml_pred)\n",
    "print(\"Confusion Matrix:\")\n",
    "print(cm) \n",
    "report = classification_report(y_test, ml_pred)\n",
    "print(\"classification_report\")\n",
    "print(report)"
   ]
  },
  {
   "attachments": {},
   "cell_type": "markdown",
   "metadata": {},
   "source": [
    "## **Support Vectore Machine**"
   ]
  },
  {
   "cell_type": "code",
   "execution_count": 33,
   "metadata": {},
   "outputs": [
    {
     "name": "stdout",
     "output_type": "stream",
     "text": [
      "accuracy_score of Support Vectore Machine is: 0.62\n"
     ]
    }
   ],
   "source": [
    "sv = SVC()\n",
    "sv.fit(x_train[:100],y_train[:100])\n",
    "sv_pred = sv.predict(x_test[:100])\n",
    "sv_ac = accuracy_score(y_test[:100],sv_pred)\n",
    "print(\"accuracy_score of Support Vectore Machine is\"+\": \"+str(sv_ac))\n",
    "\n"
   ]
  },
  {
   "cell_type": "markdown",
   "metadata": {},
   "source": [
    " precision    recall  f1-score   support\n",
    "\n",
    "           0       0.74      0.88      0.81     15990\n",
    "           1       0.64      0.42      0.51      8337\n",
    "\n",
    "    accuracy                           0.72     24327\n",
    "   macro avg       0.69      0.65      0.66     24327\n",
    "weighted avg       0.71      0.72      0.70     24327\n"
   ]
  },
  {
   "attachments": {},
   "cell_type": "markdown",
   "metadata": {},
   "source": [
    "# **DataFrame of accuracy**"
   ]
  },
  {
   "cell_type": "code",
   "execution_count": null,
   "metadata": {},
   "outputs": [],
   "source": [
    "graph = pd.DataFrame({'Modules':['Logistic Regration','Naive Bias','RandomForest','MLP','SVC','LSTM'],\n",
    "                    'Accurecy':[l_ac*100, nb_ac*100, rn_ac*100,ml_ac*100,sv_ac*100,ls_ac*100]})"
   ]
  },
  {
   "cell_type": "code",
   "execution_count": null,
   "metadata": {},
   "outputs": [
    {
     "data": {
      "text/html": [
       "<div>\n",
       "<style scoped>\n",
       "    .dataframe tbody tr th:only-of-type {\n",
       "        vertical-align: middle;\n",
       "    }\n",
       "\n",
       "    .dataframe tbody tr th {\n",
       "        vertical-align: top;\n",
       "    }\n",
       "\n",
       "    .dataframe thead th {\n",
       "        text-align: right;\n",
       "    }\n",
       "</style>\n",
       "<table border=\"1\" class=\"dataframe\">\n",
       "  <thead>\n",
       "    <tr style=\"text-align: right;\">\n",
       "      <th></th>\n",
       "      <th>Modules</th>\n",
       "      <th>Accurecy</th>\n",
       "    </tr>\n",
       "  </thead>\n",
       "  <tbody>\n",
       "    <tr>\n",
       "      <th>0</th>\n",
       "      <td>Logistic Regration</td>\n",
       "      <td>72.676450</td>\n",
       "    </tr>\n",
       "    <tr>\n",
       "      <th>1</th>\n",
       "      <td>Naive Bias</td>\n",
       "      <td>89.546594</td>\n",
       "    </tr>\n",
       "    <tr>\n",
       "      <th>2</th>\n",
       "      <td>RandomForest</td>\n",
       "      <td>65.729436</td>\n",
       "    </tr>\n",
       "    <tr>\n",
       "      <th>3</th>\n",
       "      <td>MLP</td>\n",
       "      <td>95.831792</td>\n",
       "    </tr>\n",
       "    <tr>\n",
       "      <th>4</th>\n",
       "      <td>SVC</td>\n",
       "      <td>62.000000</td>\n",
       "    </tr>\n",
       "    <tr>\n",
       "      <th>5</th>\n",
       "      <td>LSTM</td>\n",
       "      <td>99.930000</td>\n",
       "    </tr>\n",
       "  </tbody>\n",
       "</table>\n",
       "</div>"
      ],
      "text/plain": [
       "              Modules   Accurecy\n",
       "0  Logistic Regration  72.676450\n",
       "1          Naive Bias  89.546594\n",
       "2        RandomForest  65.729436\n",
       "3                 MLP  95.831792\n",
       "4                 SVC  62.000000\n",
       "5                LSTM  99.930000"
      ]
     },
     "execution_count": 108,
     "metadata": {},
     "output_type": "execute_result"
    }
   ],
   "source": [
    "graph"
   ]
  },
  {
   "attachments": {},
   "cell_type": "markdown",
   "metadata": {},
   "source": [
    "## **Graph of accuracy**"
   ]
  },
  {
   "cell_type": "code",
   "execution_count": null,
   "metadata": {},
   "outputs": [
    {
     "data": {
      "image/png": "[encoded data removed]",
      "text/plain": [
       "<Figure size 700x600 with 1 Axes>"
      ]
     },
     "metadata": {},
     "output_type": "display_data"
    }
   ],
   "source": [
    "plt.figure(figsize=(7,6))\n",
    "sns.barplot(y=graph.Accurecy,x=graph.Modules)\n",
    "plt.xticks(rotation='vertical')\n",
    "plt.show()"
   ]
  },
  {
   "attachments": {},
   "cell_type": "markdown",
   "metadata": {},
   "source": [
    "# **Prediction**"
   ]
  },
  {
   "cell_type": "code",
   "execution_count": null,
   "metadata": {},
   "outputs": [
    {
     "data": {
      "text/plain": [
       "(56761, 24)"
      ]
     },
     "execution_count": 113,
     "metadata": {},
     "output_type": "execute_result"
    }
   ],
   "source": [
    "x_train.shape"
   ]
  },
  {
   "attachments": {},
   "cell_type": "markdown",
   "metadata": {},
   "source": [
    "**Prediction with CatBoost**"
   ]
  },
  {
   "cell_type": "code",
   "execution_count": null,
   "metadata": {},
   "outputs": [],
   "source": [
    "input = [[1,2,3,4,5,6,7,8,9,10,11,12,13,14,15,16,17,18,19,20,21,22,23,24]]"
   ]
  },
  {
   "cell_type": "code",
   "execution_count": null,
   "metadata": {},
   "outputs": [
    {
     "name": "stderr",
     "output_type": "stream",
     "text": [
      "C:\\Users\\ymts0630\\AppData\\Roaming\\Python\\Python39\\site-packages\\sklearn\\base.py:450: UserWarning: X does not have valid feature names, but MLPClassifier was fitted with feature names\n",
      "  warnings.warn(\n"
     ]
    },
    {
     "data": {
      "text/plain": [
       "array([1], dtype=int64)"
      ]
     },
     "execution_count": 117,
     "metadata": {},
     "output_type": "execute_result"
    }
   ],
   "source": [
    "cb_out = ml.predict(input)\n",
    "cb_out"
   ]
  },
  {
   "cell_type": "code",
   "execution_count": null,
   "metadata": {},
   "outputs": [
    {
     "name": "stdout",
     "output_type": "stream",
     "text": [
      "its emergency case\n"
     ]
    }
   ],
   "source": [
    "if cb_out == 0:\n",
    "    print(\"its not emergency case\")\n",
    "else:\n",
    "    print(\"its emergency case\")"
   ]
  },
  {
   "cell_type": "code",
   "execution_count": null,
   "metadata": {},
   "outputs": [],
   "source": [
    "input1 = [[49,14,0,0,0,1,0,0,9,10,11,12,13,14,15,16,17,18,19,256,23,287,26,24]]"
   ]
  },
  {
   "cell_type": "code",
   "execution_count": null,
   "metadata": {},
   "outputs": [
    {
     "name": "stderr",
     "output_type": "stream",
     "text": [
      "C:\\Users\\ymts0630\\AppData\\Roaming\\Python\\Python39\\site-packages\\sklearn\\base.py:450: UserWarning: X does not have valid feature names, but MLPClassifier was fitted with feature names\n",
      "  warnings.warn(\n"
     ]
    },
    {
     "data": {
      "text/plain": [
       "array([0], dtype=int64)"
      ]
     },
     "execution_count": 121,
     "metadata": {},
     "output_type": "execute_result"
    }
   ],
   "source": [
    "cb_out = ml.predict(input1)\n",
    "cb_out"
   ]
  },
  {
   "cell_type": "code",
   "execution_count": null,
   "metadata": {},
   "outputs": [
    {
     "name": "stdout",
     "output_type": "stream",
     "text": [
      "its not emergency case\n"
     ]
    }
   ],
   "source": [
    "if cb_out == 0:\n",
    "    print(\"its not emergency case\")\n",
    "else:\n",
    "    print(\"its emergency case\")"
   ]
  },
  {
   "cell_type": "code",
   "execution_count": null,
   "metadata": {},
   "outputs": [],
   "source": []
  }
 ],
 "metadata": {
  "kernelspec": {
   "display_name": "Python 3",
   "language": "python",
   "name": "python3"
  },
  "language_info": {
   "codemirror_mode": {
    "name": "ipython",
    "version": 3
   },
   "file_extension": ".py",
   "mimetype": "text/x-python",
   "name": "python",
   "nbconvert_exporter": "python",
   "pygments_lexer": "ipython3",
   "version": "3.10.8"
  },
  "orig_nbformat": 4
 },
 "nbformat": 4,
 "nbformat_minor": 2
}
